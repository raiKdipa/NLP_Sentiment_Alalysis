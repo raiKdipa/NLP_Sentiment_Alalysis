{
  "cells": [
    {
      "cell_type": "markdown",
      "metadata": {
        "id": "a-4p8W3N_mgI"
      },
      "source": [
        "**Project**\n",
        "\n"
      ]
    },
    {
      "cell_type": "code",
      "execution_count": 124,
      "metadata": {
        "id": "x93S_UEr_nW1"
      },
      "outputs": [],
      "source": [
        "import pandas as pd #import pandas"
      ]
    },
    {
      "cell_type": "code",
      "execution_count": 125,
      "metadata": {
        "colab": {
          "base_uri": "https://localhost:8080/",
          "height": 206
        },
        "id": "F9cq7zCj3EyI",
        "outputId": "fdc4eb68-43ce-4fdc-8586-4618a9aca46d"
      },
      "outputs": [
        {
          "output_type": "execute_result",
          "data": {
            "text/plain": [
              "                                                                                                                    review  \\\n",
              "0  In 1974, the teenager Martha Moxley (Maggie Grace) moves to the high-class area of Belle Haven, Greenwich, Connectic...   \n",
              "1  OK... so... I really like Kris Kristofferson and his usual easy going delivery of lines in his movies. Age has helpe...   \n",
              "2  ***SPOILER*** Do not read this, if you think about watching that movie, although it would be a waste of time. (By th...   \n",
              "3  hi for all the people who have seen this wonderful movie im sure thet you would have liked it as much as i. i love t...   \n",
              "4  I recently bought the DVD, forgetting just how much I hated the movie version of \"A Chorus Line.\" Every change the d...   \n",
              "\n",
              "   sentiment  \n",
              "0          1  \n",
              "1          0  \n",
              "2          0  \n",
              "3          1  \n",
              "4          0  "
            ],
            "text/html": [
              "\n",
              "  <div id=\"df-818f82c1-4a12-4688-bc3f-de340e317853\">\n",
              "    <div class=\"colab-df-container\">\n",
              "      <div>\n",
              "<style scoped>\n",
              "    .dataframe tbody tr th:only-of-type {\n",
              "        vertical-align: middle;\n",
              "    }\n",
              "\n",
              "    .dataframe tbody tr th {\n",
              "        vertical-align: top;\n",
              "    }\n",
              "\n",
              "    .dataframe thead th {\n",
              "        text-align: right;\n",
              "    }\n",
              "</style>\n",
              "<table border=\"1\" class=\"dataframe\">\n",
              "  <thead>\n",
              "    <tr style=\"text-align: right;\">\n",
              "      <th></th>\n",
              "      <th>review</th>\n",
              "      <th>sentiment</th>\n",
              "    </tr>\n",
              "  </thead>\n",
              "  <tbody>\n",
              "    <tr>\n",
              "      <th>0</th>\n",
              "      <td>In 1974, the teenager Martha Moxley (Maggie Grace) moves to the high-class area of Belle Haven, Greenwich, Connectic...</td>\n",
              "      <td>1</td>\n",
              "    </tr>\n",
              "    <tr>\n",
              "      <th>1</th>\n",
              "      <td>OK... so... I really like Kris Kristofferson and his usual easy going delivery of lines in his movies. Age has helpe...</td>\n",
              "      <td>0</td>\n",
              "    </tr>\n",
              "    <tr>\n",
              "      <th>2</th>\n",
              "      <td>***SPOILER*** Do not read this, if you think about watching that movie, although it would be a waste of time. (By th...</td>\n",
              "      <td>0</td>\n",
              "    </tr>\n",
              "    <tr>\n",
              "      <th>3</th>\n",
              "      <td>hi for all the people who have seen this wonderful movie im sure thet you would have liked it as much as i. i love t...</td>\n",
              "      <td>1</td>\n",
              "    </tr>\n",
              "    <tr>\n",
              "      <th>4</th>\n",
              "      <td>I recently bought the DVD, forgetting just how much I hated the movie version of \"A Chorus Line.\" Every change the d...</td>\n",
              "      <td>0</td>\n",
              "    </tr>\n",
              "  </tbody>\n",
              "</table>\n",
              "</div>\n",
              "      <button class=\"colab-df-convert\" onclick=\"convertToInteractive('df-818f82c1-4a12-4688-bc3f-de340e317853')\"\n",
              "              title=\"Convert this dataframe to an interactive table.\"\n",
              "              style=\"display:none;\">\n",
              "        \n",
              "  <svg xmlns=\"http://www.w3.org/2000/svg\" height=\"24px\"viewBox=\"0 0 24 24\"\n",
              "       width=\"24px\">\n",
              "    <path d=\"M0 0h24v24H0V0z\" fill=\"none\"/>\n",
              "    <path d=\"M18.56 5.44l.94 2.06.94-2.06 2.06-.94-2.06-.94-.94-2.06-.94 2.06-2.06.94zm-11 1L8.5 8.5l.94-2.06 2.06-.94-2.06-.94L8.5 2.5l-.94 2.06-2.06.94zm10 10l.94 2.06.94-2.06 2.06-.94-2.06-.94-.94-2.06-.94 2.06-2.06.94z\"/><path d=\"M17.41 7.96l-1.37-1.37c-.4-.4-.92-.59-1.43-.59-.52 0-1.04.2-1.43.59L10.3 9.45l-7.72 7.72c-.78.78-.78 2.05 0 2.83L4 21.41c.39.39.9.59 1.41.59.51 0 1.02-.2 1.41-.59l7.78-7.78 2.81-2.81c.8-.78.8-2.07 0-2.86zM5.41 20L4 18.59l7.72-7.72 1.47 1.35L5.41 20z\"/>\n",
              "  </svg>\n",
              "      </button>\n",
              "      \n",
              "  <style>\n",
              "    .colab-df-container {\n",
              "      display:flex;\n",
              "      flex-wrap:wrap;\n",
              "      gap: 12px;\n",
              "    }\n",
              "\n",
              "    .colab-df-convert {\n",
              "      background-color: #E8F0FE;\n",
              "      border: none;\n",
              "      border-radius: 50%;\n",
              "      cursor: pointer;\n",
              "      display: none;\n",
              "      fill: #1967D2;\n",
              "      height: 32px;\n",
              "      padding: 0 0 0 0;\n",
              "      width: 32px;\n",
              "    }\n",
              "\n",
              "    .colab-df-convert:hover {\n",
              "      background-color: #E2EBFA;\n",
              "      box-shadow: 0px 1px 2px rgba(60, 64, 67, 0.3), 0px 1px 3px 1px rgba(60, 64, 67, 0.15);\n",
              "      fill: #174EA6;\n",
              "    }\n",
              "\n",
              "    [theme=dark] .colab-df-convert {\n",
              "      background-color: #3B4455;\n",
              "      fill: #D2E3FC;\n",
              "    }\n",
              "\n",
              "    [theme=dark] .colab-df-convert:hover {\n",
              "      background-color: #434B5C;\n",
              "      box-shadow: 0px 1px 3px 1px rgba(0, 0, 0, 0.15);\n",
              "      filter: drop-shadow(0px 1px 2px rgba(0, 0, 0, 0.3));\n",
              "      fill: #FFFFFF;\n",
              "    }\n",
              "  </style>\n",
              "\n",
              "      <script>\n",
              "        const buttonEl =\n",
              "          document.querySelector('#df-818f82c1-4a12-4688-bc3f-de340e317853 button.colab-df-convert');\n",
              "        buttonEl.style.display =\n",
              "          google.colab.kernel.accessAllowed ? 'block' : 'none';\n",
              "\n",
              "        async function convertToInteractive(key) {\n",
              "          const element = document.querySelector('#df-818f82c1-4a12-4688-bc3f-de340e317853');\n",
              "          const dataTable =\n",
              "            await google.colab.kernel.invokeFunction('convertToInteractive',\n",
              "                                                     [key], {});\n",
              "          if (!dataTable) return;\n",
              "\n",
              "          const docLinkHtml = 'Like what you see? Visit the ' +\n",
              "            '<a target=\"_blank\" href=https://colab.research.google.com/notebooks/data_table.ipynb>data table notebook</a>'\n",
              "            + ' to learn more about interactive tables.';\n",
              "          element.innerHTML = '';\n",
              "          dataTable['output_type'] = 'display_data';\n",
              "          await google.colab.output.renderOutput(dataTable, element);\n",
              "          const docLink = document.createElement('div');\n",
              "          docLink.innerHTML = docLinkHtml;\n",
              "          element.appendChild(docLink);\n",
              "        }\n",
              "      </script>\n",
              "    </div>\n",
              "  </div>\n",
              "  "
            ]
          },
          "metadata": {},
          "execution_count": 125
        }
      ],
      "source": [
        "\n",
        "movie_rev_data = pd.read_csv(\"/content/drive/MyDrive/movie_data.csv\")\n",
        "\n",
        "for line in movie_rev_data:\n",
        "    line=line.replace(\"\\n\",\"\")+\" \"\n",
        "\n",
        "pd.set_option('display.max.colwidth', 120) #The display width is extended to 120 for beter feel. \n",
        "movie_rev_data.head(5)"
      ]
    },
    {
      "cell_type": "code",
      "execution_count": 126,
      "metadata": {
        "colab": {
          "base_uri": "https://localhost:8080/"
        },
        "id": "JQyFfZADJ5QD",
        "outputId": "533ef914-5bc5-411a-887a-ef72237a7bf5"
      },
      "outputs": [
        {
          "output_type": "stream",
          "name": "stdout",
          "text": [
            "0        In 1974, the teenager Martha Moxley (Maggie Grace) moves to the high-class area of Belle Haven, Greenwich, Connectic...\n",
            "1        OK... so... I really like Kris Kristofferson and his usual easy going delivery of lines in his movies. Age has helpe...\n",
            "2        ***SPOILER*** Do not read this, if you think about watching that movie, although it would be a waste of time. (By th...\n",
            "3        hi for all the people who have seen this wonderful movie im sure thet you would have liked it as much as i. i love t...\n",
            "4        I recently bought the DVD, forgetting just how much I hated the movie version of \"A Chorus Line.\" Every change the d...\n",
            "                                                                  ...                                                           \n",
            "49995    OK, lets start with the best. the building. although hard to believe it had electricity and running water after 35 y...\n",
            "49996    The British 'heritage film' industry is out of control. There's nothing wrong with filming classic novels, but why m...\n",
            "49997    I don't even know where to begin on this one. \"It's all about the family.\" That has to be the worst line of dialogue...\n",
            "49998    Richard Tyler is a little boy who is scared of everything. He doesn't like riding his bike or climbing on his tree h...\n",
            "49999    I waited long to watch this movie. Also because I like Bruce Willis. The plot was quite different from what I had ex...\n",
            "Name: review, Length: 50000, dtype: object\n"
          ]
        }
      ],
      "source": [
        "print(movie_rev_data['review']) #The reviow column"
      ]
    },
    {
      "cell_type": "markdown",
      "metadata": {
        "id": "GAc8k6zFuQ9u"
      },
      "source": [
        "* Packages and libraries "
      ]
    },
    {
      "cell_type": "code",
      "execution_count": 127,
      "metadata": {
        "colab": {
          "base_uri": "https://localhost:8080/"
        },
        "id": "LamwbLgrgwwH",
        "outputId": "6b85dc4f-ec65-418d-a637-04a180d14fb6"
      },
      "outputs": [
        {
          "output_type": "stream",
          "name": "stderr",
          "text": [
            "[nltk_data] Downloading package punkt to /root/nltk_data...\n",
            "[nltk_data]   Package punkt is already up-to-date!\n",
            "[nltk_data] Downloading package stopwords to /root/nltk_data...\n",
            "[nltk_data]   Package stopwords is already up-to-date!\n"
          ]
        }
      ],
      "source": [
        "\n",
        "import nltk\n",
        "import re\n",
        "import string\n",
        "import re\n",
        "import gensim\n",
        "import itertools\n",
        "\n",
        "nltk.download('punkt')\n",
        "nltk.download('stopwords')\n",
        "\n",
        "from nltk.tokenize import word_tokenize\n",
        "from collections import Counter\n",
        "from nltk.corpus import stopwords\n",
        "from gensim.corpora.dictionary import Dictionary\n",
        "from collections import defaultdict\n",
        "from sklearn.linear_model import LogisticRegression\n",
        "from sklearn.feature_extraction.text import CountVectorizer\n"
      ]
    },
    {
      "cell_type": "markdown",
      "metadata": {
        "id": "8q4k4v88vgic"
      },
      "source": [
        "*Punctuation Remived "
      ]
    },
    {
      "cell_type": "code",
      "execution_count": 128,
      "metadata": {
        "colab": {
          "base_uri": "https://localhost:8080/",
          "height": 35
        },
        "id": "YYCa5crhVseN",
        "outputId": "30525d0c-298d-4f42-efc1-d2872230511b"
      },
      "outputs": [
        {
          "output_type": "execute_result",
          "data": {
            "text/plain": [
              "'!\"#$%&\\'()*+,-./:;<=>?@[\\\\]^_`{|}~'"
            ],
            "application/vnd.google.colaboratory.intrinsic+json": {
              "type": "string"
            }
          },
          "metadata": {},
          "execution_count": 128
        }
      ],
      "source": [
        "import string\n",
        "string.punctuation"
      ]
    },
    {
      "cell_type": "code",
      "execution_count": 129,
      "metadata": {
        "id": "wbe4IoxsVsqc"
      },
      "outputs": [],
      "source": [
        "\n",
        "def remove_punctuation (reviewtxt):\n",
        "  reviewtxt_punct =\"\".join([w for w in reviewtxt if w not in string.punctuation])\n",
        "  return reviewtxt_punct\n",
        "\n"
      ]
    },
    {
      "cell_type": "code",
      "execution_count": 130,
      "metadata": {
        "colab": {
          "base_uri": "https://localhost:8080/"
        },
        "id": "Bl5bsO0_weZI",
        "outputId": "e4a09ce5-6508-46fb-b76e-e3ae664991d4"
      },
      "outputs": [
        {
          "output_type": "execute_result",
          "data": {
            "text/plain": [
              "0        In 1974 the teenager Martha Moxley Maggie Grace moves to the highclass area of Belle Haven Greenwich Connecticut On ...\n",
              "1        OK so I really like Kris Kristofferson and his usual easy going delivery of lines in his movies Age has helped him w...\n",
              "2        SPOILER Do not read this if you think about watching that movie although it would be a waste of time By the way The ...\n",
              "3        hi for all the people who have seen this wonderful movie im sure thet you would have liked it as much as i i love th...\n",
              "4        I recently bought the DVD forgetting just how much I hated the movie version of A Chorus Line Every change the direc...\n",
              "                                                                  ...                                                           \n",
              "49995    OK lets start with the best the building although hard to believe it had electricity and running water after 35 year...\n",
              "49996    The British heritage film industry is out of control Theres nothing wrong with filming classic novels but why must t...\n",
              "49997    I dont even know where to begin on this one Its all about the family That has to be the worst line of dialogue ever ...\n",
              "49998    Richard Tyler is a little boy who is scared of everything He doesnt like riding his bike or climbing on his tree hou...\n",
              "49999    I waited long to watch this movie Also because I like Bruce Willis The plot was quite different from what I had expe...\n",
              "Name: review_nopunt, Length: 50000, dtype: object"
            ]
          },
          "metadata": {},
          "execution_count": 130
        }
      ],
      "source": [
        "movie_rev_data['review_nopunt'] = movie_rev_data['review'].apply(lambda doc: remove_punctuation(doc))\n",
        "\n",
        "movie_rev_data['review_nopunt']"
      ]
    },
    {
      "cell_type": "markdown",
      "metadata": {
        "id": "HzdXXZTxas_m"
      },
      "source": [
        "Tokenization and lowring the upper cases "
      ]
    },
    {
      "cell_type": "code",
      "execution_count": 131,
      "metadata": {
        "id": "1DczNo8j1Fen"
      },
      "outputs": [],
      "source": [
        "#Word tokenized and lowerind upper cases\n",
        "\n",
        "from nltk.tokenize import word_tokenize\n",
        "\n",
        "movie_rev_data['words_tokenized'] =[word_tokenize(doc.lower())\n",
        "                                   for doc in movie_rev_data['review_nopunt']]\n"
      ]
    },
    {
      "cell_type": "code",
      "execution_count": 132,
      "metadata": {
        "colab": {
          "base_uri": "https://localhost:8080/"
        },
        "id": "ptZ40e1Cd_sP",
        "outputId": "550fbe10-b553-44c0-a256-7bb2582d4d7a"
      },
      "outputs": [
        {
          "output_type": "execute_result",
          "data": {
            "text/plain": [
              "0        [in, 1974, the, teenager, martha, moxley, maggie, grace, moves, to, the, highclass, area, of, belle, haven, greenwic...\n",
              "1        [ok, so, i, really, like, kris, kristofferson, and, his, usual, easy, going, delivery, of, lines, in, his, movies, a...\n",
              "2        [spoiler, do, not, read, this, if, you, think, about, watching, that, movie, although, it, would, be, a, waste, of, ...\n",
              "3        [hi, for, all, the, people, who, have, seen, this, wonderful, movie, im, sure, thet, you, would, have, liked, it, as...\n",
              "4        [i, recently, bought, the, dvd, forgetting, just, how, much, i, hated, the, movie, version, of, a, chorus, line, eve...\n",
              "                                                                  ...                                                           \n",
              "49995    [ok, lets, start, with, the, best, the, building, although, hard, to, believe, it, had, electricity, and, running, w...\n",
              "49996    [the, british, heritage, film, industry, is, out, of, control, theres, nothing, wrong, with, filming, classic, novel...\n",
              "49997    [i, dont, even, know, where, to, begin, on, this, one, its, all, about, the, family, that, has, to, be, the, worst, ...\n",
              "49998    [richard, tyler, is, a, little, boy, who, is, scared, of, everything, he, doesnt, like, riding, his, bike, or, climb...\n",
              "49999    [i, waited, long, to, watch, this, movie, also, because, i, like, bruce, willis, the, plot, was, quite, different, f...\n",
              "Name: words_tokenized, Length: 50000, dtype: object"
            ]
          },
          "metadata": {},
          "execution_count": 132
        }
      ],
      "source": [
        " movie_rev_data['words_tokenized']"
      ]
    },
    {
      "cell_type": "markdown",
      "metadata": {
        "id": "AzQS-NnUNOR3"
      },
      "source": [
        "* Stopwords removing "
      ]
    },
    {
      "cell_type": "code",
      "execution_count": 133,
      "metadata": {
        "id": "HY8egMhjqpYM",
        "colab": {
          "base_uri": "https://localhost:8080/"
        },
        "outputId": "32a7acb4-7480-4764-c523-eb0b11b0da04"
      },
      "outputs": [
        {
          "output_type": "execute_result",
          "data": {
            "text/plain": [
              "{'a',\n",
              " 'about',\n",
              " 'above',\n",
              " 'after',\n",
              " 'again',\n",
              " 'against',\n",
              " 'ain',\n",
              " 'all',\n",
              " 'am',\n",
              " 'an',\n",
              " 'and',\n",
              " 'any',\n",
              " 'are',\n",
              " 'aren',\n",
              " \"aren't\",\n",
              " 'as',\n",
              " 'at',\n",
              " 'be',\n",
              " 'because',\n",
              " 'been',\n",
              " 'before',\n",
              " 'being',\n",
              " 'below',\n",
              " 'between',\n",
              " 'both',\n",
              " 'but',\n",
              " 'by',\n",
              " 'can',\n",
              " 'couldn',\n",
              " \"couldn't\",\n",
              " 'd',\n",
              " 'did',\n",
              " 'didn',\n",
              " \"didn't\",\n",
              " 'do',\n",
              " 'does',\n",
              " 'doesn',\n",
              " \"doesn't\",\n",
              " 'doing',\n",
              " 'don',\n",
              " \"don't\",\n",
              " 'down',\n",
              " 'during',\n",
              " 'each',\n",
              " 'few',\n",
              " 'for',\n",
              " 'from',\n",
              " 'further',\n",
              " 'had',\n",
              " 'hadn',\n",
              " \"hadn't\",\n",
              " 'has',\n",
              " 'hasn',\n",
              " \"hasn't\",\n",
              " 'have',\n",
              " 'haven',\n",
              " \"haven't\",\n",
              " 'having',\n",
              " 'he',\n",
              " 'her',\n",
              " 'here',\n",
              " 'hers',\n",
              " 'herself',\n",
              " 'him',\n",
              " 'himself',\n",
              " 'his',\n",
              " 'how',\n",
              " 'i',\n",
              " 'if',\n",
              " 'in',\n",
              " 'into',\n",
              " 'is',\n",
              " 'isn',\n",
              " \"isn't\",\n",
              " 'it',\n",
              " \"it's\",\n",
              " 'its',\n",
              " 'itself',\n",
              " 'just',\n",
              " 'll',\n",
              " 'm',\n",
              " 'ma',\n",
              " 'me',\n",
              " 'mightn',\n",
              " \"mightn't\",\n",
              " 'more',\n",
              " 'most',\n",
              " 'mustn',\n",
              " \"mustn't\",\n",
              " 'my',\n",
              " 'myself',\n",
              " 'needn',\n",
              " \"needn't\",\n",
              " 'no',\n",
              " 'nor',\n",
              " 'not',\n",
              " 'now',\n",
              " 'o',\n",
              " 'of',\n",
              " 'off',\n",
              " 'on',\n",
              " 'once',\n",
              " 'only',\n",
              " 'or',\n",
              " 'other',\n",
              " 'our',\n",
              " 'ours',\n",
              " 'ourselves',\n",
              " 'out',\n",
              " 'over',\n",
              " 'own',\n",
              " 're',\n",
              " 's',\n",
              " 'same',\n",
              " 'shan',\n",
              " \"shan't\",\n",
              " 'she',\n",
              " \"she's\",\n",
              " 'should',\n",
              " \"should've\",\n",
              " 'shouldn',\n",
              " \"shouldn't\",\n",
              " 'so',\n",
              " 'some',\n",
              " 'such',\n",
              " 't',\n",
              " 'than',\n",
              " 'that',\n",
              " \"that'll\",\n",
              " 'the',\n",
              " 'their',\n",
              " 'theirs',\n",
              " 'them',\n",
              " 'themselves',\n",
              " 'then',\n",
              " 'there',\n",
              " 'these',\n",
              " 'they',\n",
              " 'this',\n",
              " 'those',\n",
              " 'through',\n",
              " 'to',\n",
              " 'too',\n",
              " 'under',\n",
              " 'until',\n",
              " 'up',\n",
              " 've',\n",
              " 'very',\n",
              " 'was',\n",
              " 'wasn',\n",
              " \"wasn't\",\n",
              " 'we',\n",
              " 'were',\n",
              " 'weren',\n",
              " \"weren't\",\n",
              " 'what',\n",
              " 'when',\n",
              " 'where',\n",
              " 'which',\n",
              " 'while',\n",
              " 'who',\n",
              " 'whom',\n",
              " 'why',\n",
              " 'will',\n",
              " 'with',\n",
              " 'won',\n",
              " \"won't\",\n",
              " 'wouldn',\n",
              " \"wouldn't\",\n",
              " 'y',\n",
              " 'you',\n",
              " \"you'd\",\n",
              " \"you'll\",\n",
              " \"you're\",\n",
              " \"you've\",\n",
              " 'your',\n",
              " 'yours',\n",
              " 'yourself',\n",
              " 'yourselves'}"
            ]
          },
          "metadata": {},
          "execution_count": 133
        }
      ],
      "source": [
        "from nltk.corpus import stopwords\n",
        "\n",
        "stopwords.words('english')\n",
        "stop_words1 = set(stopwords.words('english')) #The NLTK stopwords are used for removing stopwords. \n",
        "stop_words1"
      ]
    },
    {
      "cell_type": "code",
      "execution_count": 134,
      "metadata": {
        "id": "yhU2xKyCnMFi"
      },
      "outputs": [],
      "source": [
        "from nltk.corpus import stopwords\n",
        "\n",
        "\n",
        "def stopwords_removed (txtdata):\n",
        "  clen_data = [s for s in txtdata if s not in stop_words1]\n",
        "  return clen_data \n",
        "movie_rev_data['no_stopwrd_word_tokenized'] = movie_rev_data['words_tokenized'].apply(lambda doc: stopwords_removed(doc))"
      ]
    },
    {
      "cell_type": "code",
      "source": [],
      "metadata": {
        "id": "YiW9RW998BYK"
      },
      "execution_count": 134,
      "outputs": []
    },
    {
      "cell_type": "code",
      "execution_count": 135,
      "metadata": {
        "colab": {
          "base_uri": "https://localhost:8080/"
        },
        "id": "l0cFWWvbfLdq",
        "outputId": "457666de-6ef7-49e1-e42d-4ec53cc7ed32"
      },
      "outputs": [
        {
          "output_type": "execute_result",
          "data": {
            "text/plain": [
              "0        [1974, teenager, martha, moxley, maggie, grace, moves, highclass, area, belle, greenwich, connecticut, mischief, nig...\n",
              "1        [ok, really, like, kris, kristofferson, usual, easy, going, delivery, lines, movies, age, helped, soft, spoken, low,...\n",
              "2        [spoiler, read, think, watching, movie, although, would, waste, time, way, plot, predictable, make, difference, read...\n",
              "3        [hi, people, seen, wonderful, movie, im, sure, thet, would, liked, much, love, songs, seen, show, sing, along, thoug...\n",
              "4        [recently, bought, dvd, forgetting, much, hated, movie, version, chorus, line, every, change, director, attenborough...\n",
              "                                                                  ...                                                           \n",
              "49995    [ok, lets, start, best, building, although, hard, believe, electricity, running, water, 35, years, fire, gruesome, w...\n",
              "49996    [british, heritage, film, industry, control, theres, nothing, wrong, filming, classic, novels, must, filmed, talentl...\n",
              "49997    [dont, even, know, begin, one, family, worst, line, dialogue, ever, heard, horror, movie, although, couldnt, horror,...\n",
              "49998    [richard, tyler, little, boy, scared, everything, doesnt, like, riding, bike, climbing, tree, house, knows, kind, ac...\n",
              "49999    [waited, long, watch, movie, also, like, bruce, willis, plot, quite, different, expected, still, quite, good, good, ...\n",
              "Name: no_stopwrd_word_tokenized, Length: 50000, dtype: object"
            ]
          },
          "metadata": {},
          "execution_count": 135
        }
      ],
      "source": [
        "movie_rev_data['no_stopwrd_word_tokenized']"
      ]
    },
    {
      "cell_type": "code",
      "execution_count": 136,
      "metadata": {
        "id": "WxBGuD_ErZVB"
      },
      "outputs": [],
      "source": [
        "tokenized_clean_data = movie_rev_data['no_stopwrd_word_tokenized'] # the tokenized data assigned to the new dataframe\n"
      ]
    },
    {
      "cell_type": "markdown",
      "metadata": {
        "id": "JXLfLVkXynxZ"
      },
      "source": [
        "Vectorization tokenised words using Gensin Dictionary "
      ]
    },
    {
      "cell_type": "code",
      "execution_count": 137,
      "metadata": {
        "id": "zy2ejYMo4R4M",
        "colab": {
          "base_uri": "https://localhost:8080/"
        },
        "outputId": "2b226ad6-d883-460e-80c5-60d00fb4a5f3"
      },
      "outputs": [
        {
          "output_type": "execute_result",
          "data": {
            "text/plain": [
              "{'1974': 0,\n",
              " '70s': 1,\n",
              " 'able': 2,\n",
              " 'andrew': 3,\n",
              " 'area': 4,\n",
              " 'available': 5,\n",
              " 'backyard': 6,\n",
              " 'belle': 7,\n",
              " 'book': 8,\n",
              " 'br': 9,\n",
              " 'brazil': 10,\n",
              " 'carroll': 11,\n",
              " 'case': 12,\n",
              " 'charge': 13,\n",
              " 'christopher': 14,\n",
              " 'committed': 15,\n",
              " 'connecticut': 16,\n",
              " 'convicted': 17,\n",
              " 'cover': 18,\n",
              " 'crime': 19,\n",
              " 'criminal': 20,\n",
              " 'days': 21,\n",
              " 'decides': 22,\n",
              " 'detective': 23,\n",
              " 'disclose': 24,\n",
              " 'discover': 25,\n",
              " 'disgrace': 26,\n",
              " 'dramatization': 27,\n",
              " 'emotion': 28,\n",
              " 'eve': 29,\n",
              " 'fallen': 30,\n",
              " 'family': 31,\n",
              " 'fifteen': 32,\n",
              " 'former': 33,\n",
              " 'forster': 34,\n",
              " 'fuhrman': 35,\n",
              " 'girl': 36,\n",
              " 'good': 37,\n",
              " 'grace': 38,\n",
              " 'greenwich': 39,\n",
              " 'halloween': 40,\n",
              " 'hideous': 41,\n",
              " 'highclass': 42,\n",
              " 'house': 43,\n",
              " 'however': 44,\n",
              " 'idaho': 45,\n",
              " 'influence': 46,\n",
              " 'investigate': 47,\n",
              " 'investigation': 48,\n",
              " 'kennedy': 49,\n",
              " 'la': 50,\n",
              " 'lack': 51,\n",
              " 'last': 52,\n",
              " 'later': 53,\n",
              " 'locals': 54,\n",
              " 'maggie': 55,\n",
              " 'mark': 56,\n",
              " 'martha': 57,\n",
              " 'meloni': 58,\n",
              " 'mischief': 59,\n",
              " 'mitchell': 60,\n",
              " 'money': 61,\n",
              " 'mother': 62,\n",
              " 'moved': 63,\n",
              " 'moves': 64,\n",
              " 'movie': 65,\n",
              " 'moxley': 66,\n",
              " 'murder': 67,\n",
              " 'murderbr': 68,\n",
              " 'murdered': 69,\n",
              " 'net': 70,\n",
              " 'night': 71,\n",
              " 'oj': 72,\n",
              " 'old': 73,\n",
              " 'parallel': 74,\n",
              " 'partner': 75,\n",
              " 'perjurer': 76,\n",
              " 'perjury': 77,\n",
              " 'power': 78,\n",
              " 'powerful': 79,\n",
              " 'purpose': 80,\n",
              " 'remained': 81,\n",
              " 'retired': 82,\n",
              " 'rich': 83,\n",
              " 'robert': 84,\n",
              " 'screenplay': 85,\n",
              " 'sevenbr': 86,\n",
              " 'shows': 87,\n",
              " 'simpson': 88,\n",
              " 'snoopy': 89,\n",
              " 'squirm': 90,\n",
              " 'stephen': 91,\n",
              " 'steve': 92,\n",
              " 'story': 93,\n",
              " 'support': 94,\n",
              " 'teenager': 95,\n",
              " 'title': 96,\n",
              " 'trial': 97,\n",
              " 'true': 98,\n",
              " 'tv': 99,\n",
              " 'twenty': 100,\n",
              " 'twentytwo': 101,\n",
              " 'unsolved': 102,\n",
              " 'used': 103,\n",
              " 'vote': 104,\n",
              " 'wealthy': 105,\n",
              " 'weeks': 106,\n",
              " 'welcome': 107,\n",
              " 'whose': 108,\n",
              " 'writer': 109,\n",
              " 'writing': 110,\n",
              " 'years': 111,\n",
              " '1': 112,\n",
              " '2': 113,\n",
              " 'actors': 114,\n",
              " 'advice': 115,\n",
              " 'age': 116,\n",
              " 'back': 117,\n",
              " 'bad': 118,\n",
              " 'believe': 119,\n",
              " 'buck': 120,\n",
              " 'budget': 121,\n",
              " 'care': 122,\n",
              " 'celluloid': 123,\n",
              " 'cinematography': 124,\n",
              " 'come': 125,\n",
              " 'complete': 126,\n",
              " 'confusing': 127,\n",
              " 'darndest': 128,\n",
              " 'delivery': 129,\n",
              " 'didnt': 130,\n",
              " 'disappearance': 131,\n",
              " 'dont': 132,\n",
              " 'dvd': 133,\n",
              " 'easy': 134,\n",
              " 'effortlessly': 135,\n",
              " 'either': 136,\n",
              " 'empty': 137,\n",
              " 'energy': 138,\n",
              " 'even': 139,\n",
              " 'everyone': 140,\n",
              " 'f': 141,\n",
              " 'garbage': 142,\n",
              " 'give': 143,\n",
              " 'going': 144,\n",
              " 'goodness': 145,\n",
              " 'goofy': 146,\n",
              " 'grade': 147,\n",
              " 'helped': 148,\n",
              " 'holding': 149,\n",
              " 'holy': 150,\n",
              " 'hoping': 151,\n",
              " 'hours': 152,\n",
              " 'including': 153,\n",
              " 'invested': 154,\n",
              " 'ive': 155,\n",
              " 'kris': 156,\n",
              " 'kristofferson': 157,\n",
              " 'kudos': 158,\n",
              " 'like': 159,\n",
              " 'lines': 160,\n",
              " 'love': 161,\n",
              " 'low': 162,\n",
              " 'made': 163,\n",
              " 'make': 164,\n",
              " 'minute': 165,\n",
              " 'misstep': 166,\n",
              " 'moly': 167,\n",
              " 'motions': 168,\n",
              " 'movies': 169,\n",
              " 'must': 170,\n",
              " 'nada': 171,\n",
              " 'none': 172,\n",
              " 'nonsense': 173,\n",
              " 'ok': 174,\n",
              " 'open': 175,\n",
              " 'passing': 176,\n",
              " 'piece': 177,\n",
              " 'playing': 178,\n",
              " 'plot': 179,\n",
              " 'probably': 180,\n",
              " 'project': 181,\n",
              " 'really': 182,\n",
              " 'reason': 183,\n",
              " 'rented': 184,\n",
              " 'room': 185,\n",
              " 'sake': 186,\n",
              " 'scene': 187,\n",
              " 'scenery': 188,\n",
              " 'seen': 189,\n",
              " 'sense': 190,\n",
              " 'soft': 191,\n",
              " 'someone': 192,\n",
              " 'spoken': 193,\n",
              " 'steal': 194,\n",
              " 'style': 195,\n",
              " 'talent': 196,\n",
              " 'tell': 197,\n",
              " 'thank': 198,\n",
              " 'time': 199,\n",
              " 'trying': 200,\n",
              " 'understand': 201,\n",
              " 'usual': 202,\n",
              " 'valuable': 203,\n",
              " 'want': 204,\n",
              " 'waste': 205,\n",
              " 'watch': 206,\n",
              " 'would': 207,\n",
              " 'youll': 208,\n",
              " 'zilcho': 209,\n",
              " 'zippo': 210,\n",
              " '10': 211,\n",
              " '3': 212,\n",
              " '60': 213,\n",
              " 'accident': 214,\n",
              " 'acting': 215,\n",
              " 'air': 216,\n",
              " 'although': 217,\n",
              " 'american': 218,\n",
              " 'angels': 219,\n",
              " 'anywaybr': 220,\n",
              " 'arouse': 221,\n",
              " 'astonished': 222,\n",
              " 'attempt': 223,\n",
              " 'attempts': 224,\n",
              " 'audience': 225,\n",
              " 'audiences': 226,\n",
              " 'becoming': 227,\n",
              " 'better': 228,\n",
              " 'big': 229,\n",
              " 'boyfriend': 230,\n",
              " 'bruckheimer': 231,\n",
              " 'chance': 232,\n",
              " 'charlies': 233,\n",
              " 'chickfeelgoodflick': 234,\n",
              " 'completely': 235,\n",
              " 'con': 236,\n",
              " 'convincing': 237,\n",
              " 'could': 238,\n",
              " 'coyote': 239,\n",
              " 'depth': 240,\n",
              " 'desperate': 241,\n",
              " 'difference': 242,\n",
              " 'difficulties': 243,\n",
              " 'director': 244,\n",
              " 'dream': 245,\n",
              " 'due': 246,\n",
              " 'entertaining': 247,\n",
              " 'especially': 248,\n",
              " 'evening': 249,\n",
              " 'fail': 250,\n",
              " 'fails': 251,\n",
              " 'father': 252,\n",
              " 'fear': 253,\n",
              " 'first': 254,\n",
              " 'flickbr': 255,\n",
              " 'front': 256,\n",
              " 'funny': 257,\n",
              " 'giving': 258,\n",
              " 'go': 259,\n",
              " 'gone': 260,\n",
              " 'goodlooking': 261,\n",
              " 'goodman': 262,\n",
              " 'great': 263,\n",
              " 'happened': 264,\n",
              " 'hope': 265,\n",
              " 'instead': 266,\n",
              " 'jerry': 267,\n",
              " 'jerseys': 268,\n",
              " 'john': 269,\n",
              " 'looking': 270,\n",
              " 'mcnally': 271,\n",
              " 'moviebr': 272,\n",
              " 'much': 273,\n",
              " 'new': 274,\n",
              " 'one': 275,\n",
              " 'perabo': 276,\n",
              " 'piper': 277,\n",
              " 'pity': 278,\n",
              " 'predictable': 279,\n",
              " 'produced': 280,\n",
              " 'put': 281,\n",
              " 'quite': 282,\n",
              " 'ray': 283,\n",
              " 'read': 284,\n",
              " 'relationship': 285,\n",
              " 'relaxed': 286,\n",
              " 'represents': 287,\n",
              " 'ridiculous': 288,\n",
              " 'rock': 289,\n",
              " 'sadness': 290,\n",
              " 'say': 291,\n",
              " 'script': 292,\n",
              " 'seconds': 293,\n",
              " 'see': 294,\n",
              " 'selfironic': 295,\n",
              " 'shallow': 296,\n",
              " 'singing': 297,\n",
              " 'small': 298,\n",
              " 'spoiler': 299,\n",
              " 'stuffbr': 300,\n",
              " 'succeed': 301,\n",
              " 'success': 302,\n",
              " 'superficial': 303,\n",
              " 'thing': 304,\n",
              " 'think': 305,\n",
              " 'thumbs': 306,\n",
              " 'ticket': 307,\n",
              " 'town': 308,\n",
              " 'tragic': 309,\n",
              " 'tries': 310,\n",
              " 'two': 311,\n",
              " 'typical': 312,\n",
              " 'ugly': 313,\n",
              " 'uncritical': 314,\n",
              " 'version': 315,\n",
              " 'vhs': 316,\n",
              " 'violets': 317,\n",
              " 'watching': 318,\n",
              " 'way': 319,\n",
              " 'whether': 320,\n",
              " 'women': 321,\n",
              " 'wondering': 322,\n",
              " 'worth': 323,\n",
              " 'york': 324,\n",
              " 'young': 325,\n",
              " 'along': 326,\n",
              " 'dancing': 327,\n",
              " 'end': 328,\n",
              " 'fave': 329,\n",
              " 'hi': 330,\n",
              " 'im': 331,\n",
              " 'liked': 332,\n",
              " 'mirror': 333,\n",
              " 'musical': 334,\n",
              " 'oh': 335,\n",
              " 'part': 336,\n",
              " 'people': 337,\n",
              " 'show': 338,\n",
              " 'sing': 339,\n",
              " 'song': 340,\n",
              " 'songs': 341,\n",
              " 'strutters': 342,\n",
              " 'sure': 343,\n",
              " 'thet': 344,\n",
              " 'though': 345,\n",
              " 'wonderful': 346,\n",
              " 'attenborough': 347,\n",
              " 'bit': 348,\n",
              " 'bought': 349,\n",
              " 'cassies': 350,\n",
              " 'change': 351,\n",
              " 'characterbr': 352,\n",
              " 'chorus': 353,\n",
              " 'despite': 354,\n",
              " 'directorcassie': 355,\n",
              " 'enjoyed': 356,\n",
              " 'ensemblepremise': 357,\n",
              " 'entire': 358,\n",
              " 'every': 359,\n",
              " 'failedbr': 360,\n",
              " 'films': 361,\n",
              " 'forgetting': 362,\n",
              " 'gets': 363,\n",
              " 'given': 364,\n",
              " 'hated': 365,\n",
              " 'hit': 366,\n",
              " 'joy': 367,\n",
              " 'line': 368,\n",
              " 'making': 369,\n",
              " 'meaning': 370,\n",
              " 'numbers': 371,\n",
              " 'overall': 372,\n",
              " 'prominent': 373,\n",
              " 'recently': 374,\n",
              " 'rushed': 375,\n",
              " 'sails': 376,\n",
              " 'selfconsciousbr': 377,\n",
              " 'shattered': 378,\n",
              " 'sped': 379,\n",
              " 'spontaneity': 380,\n",
              " 'squeeze': 381,\n",
              " 'staging': 382,\n",
              " 'still': 383,\n",
              " 'windowbr': 384,\n",
              " '2000': 385,\n",
              " 'adult': 386,\n",
              " 'album': 387,\n",
              " 'braik': 388,\n",
              " 'brak': 389,\n",
              " 'came': 390,\n",
              " 'classic': 391,\n",
              " 'coast': 392,\n",
              " 'ever': 393,\n",
              " 'finally': 394,\n",
              " 'ghost': 395,\n",
              " 'hey': 396,\n",
              " 'history': 397,\n",
              " 'leave': 398,\n",
              " 'lives': 399,\n",
              " 'living': 400,\n",
              " 'lot': 401,\n",
              " 'loved': 402,\n",
              " 'may': 403,\n",
              " 'outside': 404,\n",
              " 'platinum': 405,\n",
              " 'popular': 406,\n",
              " 'spac': 407,\n",
              " 'started': 408,\n",
              " 'swim': 409,\n",
              " 'swims': 410,\n",
              " 'tons': 411,\n",
              " 'whole': 412,\n",
              " 'year': 413,\n",
              " 'zorak': 414,\n",
              " '1000': 415,\n",
              " '1955': 416,\n",
              " '80': 417,\n",
              " 'adorably': 418,\n",
              " 'alcohol': 419,\n",
              " 'angular': 420,\n",
              " 'art': 421,\n",
              " 'audrey': 422,\n",
              " 'away': 423,\n",
              " 'backhanded': 424,\n",
              " 'backstage': 425,\n",
              " 'beginning': 426,\n",
              " 'bell': 427,\n",
              " 'bets': 428,\n",
              " 'binge': 429,\n",
              " 'blends': 430,\n",
              " 'brando': 431,\n",
              " 'brought': 432,\n",
              " 'brown': 433,\n",
              " 'business': 434,\n",
              " 'cant': 435,\n",
              " 'carry': 436,\n",
              " 'charisma': 437,\n",
              " 'childlike': 438,\n",
              " 'city': 439,\n",
              " 'citys': 440,\n",
              " 'colour': 441,\n",
              " 'comes': 442,\n",
              " 'confidence': 443,\n",
              " 'confident': 444,\n",
              " 'contending': 445,\n",
              " 'contrasting': 446,\n",
              " 'craps': 447,\n",
              " 'crowds': 448,\n",
              " 'cues': 449,\n",
              " 'dance': 450,\n",
              " 'dazzled': 451,\n",
              " 'dazzling': 452,\n",
              " 'decided': 453,\n",
              " 'deco': 454,\n",
              " 'deftly': 455,\n",
              " 'detroit': 456,\n",
              " 'doesnt': 457,\n",
              " 'dolls': 458,\n",
              " 'dub': 459,\n",
              " 'established': 460,\n",
              " 'exudes': 461,\n",
              " 'fantasy': 462,\n",
              " 'film': 463,\n",
              " 'floating': 464,\n",
              " 'flurry': 465,\n",
              " 'following': 466,\n",
              " 'frank': 467,\n",
              " 'gambling': 468,\n",
              " 'game': 469,\n",
              " 'genial': 470,\n",
              " 'glittering': 471,\n",
              " 'goldwyn': 472,\n",
              " 'goldwyns': 473,\n",
              " 'guys': 474,\n",
              " 'halfway': 475,\n",
              " 'havana': 476,\n",
              " 'hepburn': 477,\n",
              " 'highestroller': 478,\n",
              " 'id': 479,\n",
              " 'idealistic': 480,\n",
              " 'isnt': 481,\n",
              " 'jean': 482,\n",
              " 'least': 483,\n",
              " 'letting': 484,\n",
              " 'liveliness': 485,\n",
              " 'location': 486,\n",
              " 'longest': 487,\n",
              " 'loose': 488,\n",
              " 'manager': 489,\n",
              " 'mankiewiczs': 490,\n",
              " 'marlon': 491,\n",
              " 'masterson': 492,\n",
              " 'matter': 493,\n",
              " 'maybe': 494,\n",
              " 'might': 495,\n",
              " 'missionary': 496,\n",
              " 'move': 497,\n",
              " 'movement': 498,\n",
              " 'movements': 499,\n",
              " 'nathan': 500,\n",
              " 'needs': 501,\n",
              " 'nonsingers': 502,\n",
              " 'odds': 503,\n",
              " 'opening': 504,\n",
              " 'pair': 505,\n",
              " 'passed': 506,\n",
              " 'pedestrians': 507,\n",
              " 'perfectly': 508,\n",
              " 'playful': 509,\n",
              " 'producer': 510,\n",
              " 'reality': 511,\n",
              " 'received': 512,\n",
              " 'removed': 513,\n",
              " 'rendition': 514,\n",
              " 'responding': 515,\n",
              " 'review': 516,\n",
              " 'rhythm': 517,\n",
              " 'role': 518,\n",
              " 'sam': 519,\n",
              " 'sarah': 520,\n",
              " 'secure': 521,\n",
              " 'seems': 522,\n",
              " 'selfassurance': 523,\n",
              " 'sequence': 524,\n",
              " 'sexuallyrepressed': 525,\n",
              " 'shell': 526,\n",
              " 'simmons': 527,\n",
              " 'sinatra': 528,\n",
              " 'sky': 529,\n",
              " 'sound': 530,\n",
              " 'stage': 531,\n",
              " 'starting': 532,\n",
              " 'stopping': 533,\n",
              " 'styles': 534,\n",
              " 'stylised': 535,\n",
              " 'suggests': 536,\n",
              " 'thuggery': 537,\n",
              " 'unbelievably': 538,\n",
              " 'underground': 539,\n",
              " 'uptight': 540,\n",
              " 'vocals': 541,\n",
              " 'voice': 542,\n",
              " 'walk': 543,\n",
              " 'walking': 544,\n",
              " 'well': 545,\n",
              " 'woo': 546,\n",
              " 'word': 547,\n",
              " 'world': 548,\n",
              " 'write': 549,\n",
              " 'yet': 550,\n",
              " 'yorks': 551,\n",
              " '227': 552,\n",
              " '80s': 553,\n",
              " 'al': 554,\n",
              " 'allstar': 555,\n",
              " 'bold': 556,\n",
              " 'boss': 557,\n",
              " 'bringing': 558,\n",
              " 'cast': 559,\n",
              " 'certain': 560,\n",
              " 'chief': 561,\n",
              " 'classics': 562,\n",
              " 'context': 563,\n",
              " 'course': 564,\n",
              " 'crash': 565,\n",
              " 'cross': 566,\n",
              " 'directors': 567,\n",
              " 'drama': 568,\n",
              " 'et': 569,\n",
              " 'fare': 570,\n",
              " 'featured': 571,\n",
              " 'figuring': 572,\n",
              " 'frye': 573,\n",
              " 'hail': 574,\n",
              " 'heroism': 575,\n",
              " 'light': 576,\n",
              " 'madefortv': 577,\n",
              " 'maturity': 578,\n",
              " 'members': 579,\n",
              " 'moon': 580,\n",
              " 'mustve': 581,\n",
              " 'offered': 582,\n",
              " 'outpopulated': 583,\n",
              " 'penchant': 584,\n",
              " 'point': 585,\n",
              " 'right': 586,\n",
              " 'simplistic': 587,\n",
              " 'sitcom': 588,\n",
              " 'soleil': 589,\n",
              " 'sometimes': 590,\n",
              " 'step': 591,\n",
              " 'thats': 592,\n",
              " 'ties': 593,\n",
              " 'together': 594,\n",
              " 'view': 595,\n",
              " 'viva': 596,\n",
              " 'whos': 597,\n",
              " 'achieved': 598,\n",
              " 'also': 599,\n",
              " 'amsterdam': 600,\n",
              " 'anyone': 601,\n",
              " 'believes': 602,\n",
              " 'brutal': 603,\n",
              " 'bush': 604,\n",
              " 'chavez': 605,\n",
              " 'chavezs': 606,\n",
              " 'commend': 607,\n",
              " 'companies': 608,\n",
              " 'corrupt': 609,\n",
              " 'country': 610,\n",
              " 'coupconspiracy': 611,\n",
              " 'democratically': 612,\n",
              " 'dictatorship': 613,\n",
              " 'documentary': 614,\n",
              " 'elected': 615,\n",
              " 'elite': 616,\n",
              " 'festival': 617,\n",
              " 'freedom': 618,\n",
              " 'globalisation': 619,\n",
              " 'governments': 620,\n",
              " 'halliburton': 621,\n",
              " 'hands': 622,\n",
              " 'impressed': 623,\n",
              " 'international': 624,\n",
              " 'justice': 625,\n",
              " 'lesson': 626,\n",
              " 'likes': 627,\n",
              " 'loving': 628,\n",
              " 'oil': 629,\n",
              " 'president': 630,\n",
              " 'realize': 631,\n",
              " 'regime': 632,\n",
              " 'remove': 633,\n",
              " 'rest': 634,\n",
              " 'return': 635,\n",
              " 'saving': 636,\n",
              " 'saw': 637,\n",
              " 'sometime': 638,\n",
              " 'stance': 639,\n",
              " 'taking': 640,\n",
              " 'tells': 641,\n",
              " 'venezuela': 642,\n",
              " 'venezuelas': 643,\n",
              " 'wasnt': 644,\n",
              " 'western': 645,\n",
              " 'action': 646,\n",
              " 'actionmovie': 647,\n",
              " 'beautiful': 648,\n",
              " 'cat': 649,\n",
              " 'cold': 650,\n",
              " 'collectors': 651,\n",
              " 'comig': 652,\n",
              " 'direct': 653,\n",
              " 'directed': 654,\n",
              " 'edition': 655,\n",
              " 'exciting': 656,\n",
              " 'extras': 657,\n",
              " 'extreme': 658,\n",
              " 'finland': 659,\n",
              " 'finnish': 660,\n",
              " 'gabe': 661,\n",
              " 'get': 662,\n",
              " 'guy': 663,\n",
              " 'harlin': 664,\n",
              " 'ice': 665,\n",
              " 'janine': 666,\n",
              " 'knows': 667,\n",
              " 'litghow': 668,\n",
              " 'man': 669,\n",
              " 'medicine': 670,\n",
              " 'micheal': 671,\n",
              " 'miracle': 672,\n",
              " 'mountain': 673,\n",
              " 'mountains': 674,\n",
              " 'mouse': 675,\n",
              " 'music': 676,\n",
              " 'needed': 677,\n",
              " 'place': 678,\n",
              " 'placed': 679,\n",
              " 'portrait': 680,\n",
              " 'remember': 681,\n",
              " 'renny': 682,\n",
              " 'rooker': 683,\n",
              " 'ruthless': 684,\n",
              " 'serialkiller': 685,\n",
              " 'snow': 686,\n",
              " 'snowy': 687,\n",
              " 'soon': 688,\n",
              " 'special': 689,\n",
              " 'spectacular': 690,\n",
              " 'stallone': 691,\n",
              " 'stars': 692,\n",
              " 'straight': 693,\n",
              " 'strong': 694,\n",
              " 'terrorists': 695,\n",
              " 'track': 696,\n",
              " 'turner': 697,\n",
              " 'video': 698,\n",
              " 'walker': 699,\n",
              " 'weather': 700,\n",
              " 'ääliöt': 701,\n",
              " 'bear': 702,\n",
              " 'foggyest': 703,\n",
              " 'heard': 704,\n",
              " 'heck': 705,\n",
              " 'hill': 706,\n",
              " 'idea': 707,\n",
              " 'let': 708,\n",
              " 'lived': 709,\n",
              " 'never': 710,\n",
              " 'quickly': 711,\n",
              " 'went': 712,\n",
              " 'achievements': 713,\n",
              " 'backgrounds': 714,\n",
              " 'best': 715,\n",
              " 'concentrates': 716,\n",
              " 'cup': 717,\n",
              " 'deal': 718,\n",
              " 'digitally': 719,\n",
              " 'everyones': 720,\n",
              " 'exeter': 721,\n",
              " 'fan': 722,\n",
              " 'filmed': 723,\n",
              " 'filming': 724,\n",
              " 'footage': 725,\n",
              " 'frontier': 726,\n",
              " 'frontiers': 727,\n",
              " 'greatest': 728,\n",
              " 'greenscreen': 729,\n",
              " 'hidden': 730,\n",
              " 'high': 731,\n",
              " 'indeedbr': 732,\n",
              " 'inserted': 733,\n",
              " 'inserting': 734,\n",
              " 'internetbased': 735,\n",
              " 'largely': 736,\n",
              " 'notable': 737,\n",
              " 'noting': 738,\n",
              " 'par': 739,\n",
              " 'physical': 740,\n",
              " 'postproduction': 741,\n",
              " 'producers': 742,\n",
              " 'production': 743,\n",
              " 'productions': 744,\n",
              " 'quality': 745,\n",
              " 'regard': 746,\n",
              " 'resultant': 747,\n",
              " 'running': 748,\n",
              " 'save': 749,\n",
              " 'season': 750,\n",
              " 'series': 751,\n",
              " 'serves': 752,\n",
              " 'sets': 753,\n",
              " 'sheer': 754,\n",
              " 'shot': 755,\n",
              " 'since': 756,\n",
              " 'star': 757,\n",
              " 'starship': 758,\n",
              " 'start': 759,\n",
              " 'stride': 760,\n",
              " 'tea': 761,\n",
              " 'third': 762,\n",
              " 'trek': 763,\n",
              " 'virtual': 764,\n",
              " 'volume': 765,\n",
              " 'voyages': 766,\n",
              " 'ways': 767,\n",
              " 'work': 768,\n",
              " '1972': 769,\n",
              " '2007': 770,\n",
              " 'adapted': 771,\n",
              " 'ago': 772,\n",
              " 'always': 773,\n",
              " 'another': 774,\n",
              " 'asleep': 775,\n",
              " 'awful': 776,\n",
              " 'blue': 777,\n",
              " 'brannigan': 778,\n",
              " 'caine': 779,\n",
              " 'caines': 780,\n",
              " 'clean': 781,\n",
              " 'confess': 782,\n",
              " 'critics': 783,\n",
              " 'dark': 784,\n",
              " 'design': 785,\n",
              " 'dislike': 786,\n",
              " 'eyesbr': 787,\n",
              " 'fantastic': 788,\n",
              " 'feel': 789,\n",
              " 'feeling': 790,\n",
              " 'felt': 791,\n",
              " 'friendly': 792,\n",
              " 'got': 793,\n",
              " 'green': 794,\n",
              " 'husband': 795,\n",
              " 'interesting': 796,\n",
              " 'jude': 797,\n",
              " 'kenneth': 798,\n",
              " 'laurence': 799,\n",
              " 'law': 800,\n",
              " 'laws': 801,\n",
              " 'lightening': 802,\n",
              " 'look': 803,\n",
              " 'lover': 804,\n",
              " 'marvelous': 805,\n",
              " 'masterpiece': 806,\n",
              " 'michael': 807,\n",
              " 'mid': 808,\n",
              " 'missed': 809,\n",
              " 'modern': 810,\n",
              " 'mysterious': 811,\n",
              " 'olivier': 812,\n",
              " 'original': 813,\n",
              " 'past': 814,\n",
              " 'perform': 815,\n",
              " 'photography': 816,\n",
              " 'play': 817,\n",
              " 'playbr': 818,\n",
              " 'reasons': 819,\n",
              " 'remake': 820,\n",
              " 'round': 821,\n",
              " 'sleuth': 822,\n",
              " 'somebody': 823,\n",
              " 'stylish': 824,\n",
              " 'tried': 825,\n",
              " 'twice': 826,\n",
              " 'uncomfortable': 827,\n",
              " 'weakest': 828,\n",
              " 'wife': 829,\n",
              " 'actually': 830,\n",
              " 'allan': 831,\n",
              " 'amateur': 832,\n",
              " 'apparently': 833,\n",
              " 'awfulnot': 834,\n",
              " 'balls': 835,\n",
              " 'beaudelaire': 836,\n",
              " 'belowaverage': 837,\n",
              " 'boys': 838,\n",
              " 'cook': 839,\n",
              " 'dammit': 840,\n",
              " 'deadbr': 841,\n",
              " 'depending': 842,\n",
              " 'dinner': 843,\n",
              " 'edgar': 844,\n",
              " 'effectbr': 845,\n",
              " 'else': 846,\n",
              " 'enjoyable': 847,\n",
              " 'faithful': 848,\n",
              " 'fellini': 849,\n",
              " 'fight': 850,\n",
              " 'fine': 851,\n",
              " 'french': 852,\n",
              " 'handkerchiefs': 853,\n",
              " 'includes': 854,\n",
              " 'intobr': 855,\n",
              " 'intowell': 856,\n",
              " 'job': 857,\n",
              " 'keep': 858,\n",
              " 'lewis': 859,\n",
              " 'looks': 860,\n",
              " 'manages': 861,\n",
              " 'menu': 862,\n",
              " 'mess': 863,\n",
              " 'metzergenstein': 864,\n",
              " 'nothing': 865,\n",
              " 'poe': 866,\n",
              " 'poes': 867,\n",
              " 'rolled': 868,\n",
              " 'school': 869,\n",
              " 'second': 870,\n",
              " 'seem': 871,\n",
              " 'segment': 872,\n",
              " 'skip': 873,\n",
              " 'snack': 874,\n",
              " 'snowball': 875,\n",
              " 'spirits': 876,\n",
              " 'stamp': 877,\n",
              " 'standards': 878,\n",
              " 'stories': 879,\n",
              " 'strangest': 880,\n",
              " 'terence': 881,\n",
              " 'terms': 882,\n",
              " 'theme': 883,\n",
              " 'theyre': 884,\n",
              " 'three': 885,\n",
              " 'throwing': 886,\n",
              " 'timebr': 887,\n",
              " 'tissues': 888,\n",
              " 'toby': 889,\n",
              " 'trilogy': 890,\n",
              " 'try': 891,\n",
              " 'us': 892,\n",
              " 'vadims': 893,\n",
              " 'viewing': 894,\n",
              " 'whatsoever': 895,\n",
              " 'william': 896,\n",
              " 'wilson': 897,\n",
              " 'wrongim': 898,\n",
              " 'youre': 899,\n",
              " 'anything': 900,\n",
              " 'choreographed': 901,\n",
              " 'contains': 902,\n",
              " 'dali': 903,\n",
              " 'dreams': 904,\n",
              " 'effect': 905,\n",
              " 'emotions': 906,\n",
              " 'fans': 907,\n",
              " 'images': 908,\n",
              " 'know': 909,\n",
              " 'nightmare': 910,\n",
              " 'real': 911,\n",
              " 'resembles': 912,\n",
              " 'sorry': 913,\n",
              " 'startling': 914,\n",
              " 'strange': 915,\n",
              " 'tumultuous': 916,\n",
              " 'unlike': 917,\n",
              " 'unsettling': 918,\n",
              " 'visions': 919,\n",
              " 'west': 920,\n",
              " '10br': 921,\n",
              " '7': 922,\n",
              " '8': 923,\n",
              " 'actress': 924,\n",
              " 'aide': 925,\n",
              " 'avoid': 926,\n",
              " 'boring': 927,\n",
              " 'buddies': 928,\n",
              " 'definition': 929,\n",
              " 'drinking': 930,\n",
              " 'dullnessbr': 931,\n",
              " 'enjoy': 932,\n",
              " 'entertained': 933,\n",
              " 'excruciatingly': 934,\n",
              " 'far': 935,\n",
              " 'fda': 936,\n",
              " 'female': 937,\n",
              " 'girlfriend': 938,\n",
              " 'hardly': 939,\n",
              " 'imagine': 940,\n",
              " 'implied': 941,\n",
              " 'lead': 942,\n",
              " 'mean': 943,\n",
              " 'medicinal': 944,\n",
              " 'nights': 945,\n",
              " 'note': 946,\n",
              " 'obtaining': 947,\n",
              " 'positive': 948,\n",
              " 'rated': 949,\n",
              " 'shall': 950,\n",
              " 'shillbr': 951,\n",
              " 'simply': 952,\n",
              " 'single': 953,\n",
              " 'sit': 954,\n",
              " 'sleep': 955,\n",
              " 'street': 956,\n",
              " 'strength': 957,\n",
              " 'thisbr': 958,\n",
              " 'value': 959,\n",
              " 'votes': 960,\n",
              " 'absurd': 961,\n",
              " 'americans': 962,\n",
              " 'among': 963,\n",
              " 'apart': 964,\n",
              " 'awfulness': 965,\n",
              " 'banal': 966,\n",
              " 'battle': 967,\n",
              " 'brobdingnagian': 968,\n",
              " 'cinema': 969,\n",
              " 'columbine': 970,\n",
              " 'crank': 971,\n",
              " 'crap': 972,\n",
              " 'crowning': 973,\n",
              " 'dead': 974,\n",
              " 'deeply': 975,\n",
              " 'die': 976,\n",
              " 'dimensional': 977,\n",
              " 'dismal': 978,\n",
              " 'dopey': 979,\n",
              " 'drivein': 980,\n",
              " 'effects': 981,\n",
              " 'events': 982,\n",
              " 'everybody': 983,\n",
              " 'feature': 984,\n",
              " 'five': 985,\n",
              " 'general': 986,\n",
              " 'glad': 987,\n",
              " 'gun': 988,\n",
              " 'happen': 989,\n",
              " 'happens': 990,\n",
              " 'hollywood': 991,\n",
              " 'impact': 992,\n",
              " 'life': 993,\n",
              " 'lousiest': 994,\n",
              " 'minutes': 995,\n",
              " 'overdone': 996,\n",
              " 'philosophical': 997,\n",
              " 'premise': 998,\n",
              " 'questions': 999,\n",
              " ...}"
            ]
          },
          "metadata": {},
          "execution_count": 137
        }
      ],
      "source": [
        "#Vectorising after stop words have been removed \n",
        "\n",
        "from gensim.corpora.dictionary import Dictionary\n",
        "\n",
        "Dictionary = Dictionary(tokenized_clean_data)\n",
        "Dictionary.token2id"
      ]
    },
    {
      "cell_type": "code",
      "execution_count": 138,
      "metadata": {
        "colab": {
          "base_uri": "https://localhost:8080/"
        },
        "id": "pydbFuZq5tGh",
        "outputId": "c9ffb788-3edf-4c62-88f5-41774ffc044f"
      },
      "outputs": [
        {
          "output_type": "stream",
          "name": "stdout",
          "text": [
            "796\n"
          ]
        }
      ],
      "source": [
        "interesting_id = Dictionary.token2id.get('interesting') # after removing punctions and stopwords, the id of the word interesting is now 796.\n",
        "print(interesting_id)"
      ]
    },
    {
      "cell_type": "code",
      "execution_count": 139,
      "metadata": {
        "colab": {
          "base_uri": "https://localhost:8080/"
        },
        "id": "cd3o3PYAhpKS",
        "outputId": "5153b774-b576-4a35-92bb-dc02a693ef2f"
      },
      "outputs": [
        {
          "output_type": "stream",
          "name": "stdout",
          "text": [
            "128\n"
          ]
        }
      ],
      "source": [
        "print(len(tokenized_clean_data[0])) # lenth of list 0.\n"
      ]
    },
    {
      "cell_type": "code",
      "execution_count": 140,
      "metadata": {
        "colab": {
          "base_uri": "https://localhost:8080/"
        },
        "id": "vq3HQDgRLZ0q",
        "outputId": "f6a649b5-158f-4ebf-ded3-7faa362b2bfc"
      },
      "outputs": [
        {
          "output_type": "stream",
          "name": "stdout",
          "text": [
            "[(65, 1), (161, 1), (189, 2), (199, 1), (206, 1), (207, 1), (273, 1), (275, 2), (297, 2), (326, 1), (327, 2), (328, 1), (329, 1), (330, 1), (331, 1), (332, 1), (333, 1), (334, 1), (335, 1), (336, 1), (337, 1), (338, 2), (339, 1), (340, 2), (341, 1), (342, 1), (343, 1), (344, 1), (345, 1), (346, 1)]\n"
          ]
        }
      ],
      "source": [
        "corpus_bow = [Dictionary.doc2bow(movie, allow_update=True) for movie in tokenized_clean_data] #Convert document into list of (token_id, token_count) \n",
        "print(corpus_bow[3])"
      ]
    },
    {
      "cell_type": "code",
      "execution_count": 141,
      "metadata": {
        "id": "YhVLWKXDKb1X"
      },
      "outputs": [],
      "source": [
        "#for movie in corpus_bow:\n",
        "   #print([[Dictionary[id], freq] for id, freq in movie])"
      ]
    },
    {
      "cell_type": "code",
      "execution_count": 142,
      "metadata": {
        "colab": {
          "base_uri": "https://localhost:8080/"
        },
        "id": "exPu1fbG-54V",
        "outputId": "2201a5b8-01ca-4e9d-de76-eac067c77b99"
      },
      "outputs": [
        {
          "output_type": "stream",
          "name": "stdout",
          "text": [
            "shows\n"
          ]
        }
      ],
      "source": [
        "print(Dictionary.get(87))"
      ]
    },
    {
      "cell_type": "code",
      "execution_count": 143,
      "metadata": {
        "id": "QA2B7hC3Of6F"
      },
      "outputs": [],
      "source": [
        "import numpy as np\n"
      ]
    },
    {
      "cell_type": "code",
      "execution_count": 144,
      "metadata": {
        "id": "wpycBOm2OsDu"
      },
      "outputs": [],
      "source": [
        "# Commented out !!! Too big data !!!!!\n",
        "#from gensim.models.tfidfmodel import TfidfModel\n",
        "#tfidf = TfidfModel(corpus_bow)\n",
        "\n",
        "#for movie in tfidf[corpus_bow]:\n",
        " #  print([[Dictionary[id], np.around(freq)] for id, freq in movie])"
      ]
    },
    {
      "cell_type": "markdown",
      "metadata": {
        "id": "QaQoNCdyN7__"
      },
      "source": [
        "* Words Frequencies "
      ]
    },
    {
      "cell_type": "code",
      "execution_count": 145,
      "metadata": {
        "colab": {
          "base_uri": "https://localhost:8080/"
        },
        "id": "kAp5-hFiuYvv",
        "outputId": "d362bc08-5792-4601-c048-0f9116914519"
      },
      "outputs": [
        {
          "output_type": "stream",
          "name": "stdout",
          "text": [
            "the most 10 frequent words in doc 3\n",
            "br 4\n",
            "movie 4\n",
            "good 2\n",
            "plot 2\n",
            "bruckheimer 2\n",
            "coyote 2\n",
            "funny 2\n",
            "looking 2\n",
            "one 2\n",
            "read 2\n"
          ]
        }
      ],
      "source": [
        "# Frequencies of words by top mot accured by individual lists of document.\n",
        "from collections import defaultdict \n",
        "# Shortted by top most words frequency \n",
        "\n",
        "textdoc = corpus_bow[2] # text = [Dictionary.doc2bow(movie) for movie in tokenized_clean_data]\n",
        "short_doc = sorted(textdoc, key=lambda w: w[1], reverse=True)\n",
        "\n",
        "print(\"the most 10 frequent words in doc 3\")\n",
        "for word_id, word_count in short_doc[:10]:\n",
        "    print(Dictionary.get(word_id), word_count)\n",
        "\n"
      ]
    },
    {
      "cell_type": "code",
      "execution_count": 146,
      "metadata": {
        "colab": {
          "base_uri": "https://localhost:8080/"
        },
        "id": "z6BfxLXoupjr",
        "outputId": "c4f2179c-bdd6-47aa-cd22-26a74a88d0d2"
      },
      "outputs": [
        {
          "output_type": "stream",
          "name": "stdout",
          "text": [
            "the most 10 frequent words\n",
            "br 113797\n",
            "movie 83511\n",
            "film 74459\n",
            "one 51027\n",
            "like 38989\n",
            "good 28569\n",
            "even 24572\n",
            "would 24024\n",
            "time 23258\n",
            "really 22948\n"
          ]
        }
      ],
      "source": [
        "#totaldocs (int) – Total number of documents.\n",
        "\n",
        "from collections import defaultdict\n",
        "\n",
        "word_counts = defaultdict(int)\n",
        "for word_id, word_count in itertools.chain.from_iterable(corpus_bow):\n",
        "    word_counts[word_id] += word_count\n",
        "\n",
        "decent_word_count = sorted(word_counts.items(), key=lambda w: w[1], reverse=True) \n",
        "\n",
        "print(\"the most 10 frequent words\")\n",
        "\n",
        "for word_id, word_count in decent_word_count[:10]:\n",
        "    print(Dictionary.get(word_id), word_count)"
      ]
    },
    {
      "cell_type": "markdown",
      "metadata": {
        "id": "RyZPZ149SKj-"
      },
      "source": [
        "TF-IDF"
      ]
    },
    {
      "cell_type": "code",
      "execution_count": 147,
      "metadata": {
        "colab": {
          "base_uri": "https://localhost:8080/"
        },
        "id": "_2SPh9R4uiAT",
        "outputId": "47eecd14-c62f-4156-cf22-7a9f68c29886"
      },
      "outputs": [
        {
          "output_type": "stream",
          "name": "stdout",
          "text": [
            "10 most weighted words in doc 3\n",
            "bruckheimer 0.27268733548432106\n",
            "coyote 0.2542493771311766\n",
            "chickfeelgoodflick 0.19794857142908032\n",
            "selfironic 0.18526739714109774\n",
            "violets 0.17784938571751863\n",
            "shallow 0.17326449087217718\n",
            "jerseys 0.16850379657365033\n",
            "ugly 0.162571846063754\n",
            "uncritical 0.15248703714155346\n",
            "perabo 0.15102265042116\n",
            "mcnally 0.14224882866268038\n",
            "arouse 0.14058449386183394\n",
            "astonished 0.12463414128035306\n",
            "goodman 0.12048530815027222\n",
            "piper 0.11895983600665862\n"
          ]
        }
      ],
      "source": [
        "#Topoc Modeling\n",
        "\n",
        "from gensim.models.tfidfmodel import TfidfModel\n",
        "tfidf = TfidfModel(corpus_bow)\n",
        "tfidfdoc = tfidf[corpus_bow[2]]\n",
        "tfidf_doc = sorted(tfidfdoc, key=lambda w: w[1], reverse=True)\n",
        "\n",
        "print(\"10 most weighted words in doc 3\")\n",
        "for word_id, word_count in tfidf_doc[:15]:\n",
        "    print(Dictionary.get(word_id), word_count) "
      ]
    },
    {
      "cell_type": "markdown",
      "metadata": {
        "id": "IyIiUmNIKoiA"
      },
      "source": [
        "* Splited the data into training and test by an equal size. "
      ]
    },
    {
      "cell_type": "code",
      "execution_count": 148,
      "metadata": {
        "id": "9egmcU9vLfLw"
      },
      "outputs": [],
      "source": [
        "#For predictions models \n",
        "\n",
        "from sklearn.feature_extraction.text import CountVectorizer\n",
        "from sklearn.feature_extraction.text import TfidfVectorizer\n",
        "from sklearn.model_selection import train_test_split\n",
        "from sklearn.linear_model import LogisticRegression\n",
        "from sklearn import metrics\n",
        "import seaborn as sns"
      ]
    },
    {
      "cell_type": "code",
      "source": [
        "movie_rev_data.shape #The shape of the data"
      ],
      "metadata": {
        "colab": {
          "base_uri": "https://localhost:8080/"
        },
        "id": "pCytEyNs9j4V",
        "outputId": "16b396d1-6b0d-42f0-a022-9bd1dfb38f34"
      },
      "execution_count": 149,
      "outputs": [
        {
          "output_type": "execute_result",
          "data": {
            "text/plain": [
              "(50000, 5)"
            ]
          },
          "metadata": {},
          "execution_count": 149
        }
      ]
    },
    {
      "cell_type": "code",
      "source": [
        "movie_rev_data.isnull().sum() #Checking the if there are missing values"
      ],
      "metadata": {
        "colab": {
          "base_uri": "https://localhost:8080/"
        },
        "id": "tH_-I-L_9j9o",
        "outputId": "caf2ba7f-8eec-4624-b914-a880ea7c0cdb"
      },
      "execution_count": 150,
      "outputs": [
        {
          "output_type": "execute_result",
          "data": {
            "text/plain": [
              "review                       0\n",
              "sentiment                    0\n",
              "review_nopunt                0\n",
              "words_tokenized              0\n",
              "no_stopwrd_word_tokenized    0\n",
              "dtype: int64"
            ]
          },
          "metadata": {},
          "execution_count": 150
        }
      ]
    },
    {
      "cell_type": "code",
      "source": [
        "import seaborn as sns"
      ],
      "metadata": {
        "id": "mgqIaOYZ-G73"
      },
      "execution_count": 151,
      "outputs": []
    },
    {
      "cell_type": "code",
      "source": [
        "sns.countplot(movie_rev_data['sentiment']) # Negative and positive sentiment values in the data "
      ],
      "metadata": {
        "colab": {
          "base_uri": "https://localhost:8080/",
          "height": 351
        },
        "id": "e88YaJgG-HBF",
        "outputId": "01f61bdb-d238-4ddb-bf21-f5d04bab3b85"
      },
      "execution_count": 152,
      "outputs": [
        {
          "output_type": "stream",
          "name": "stderr",
          "text": [
            "/usr/local/lib/python3.8/dist-packages/seaborn/_decorators.py:36: FutureWarning: Pass the following variable as a keyword arg: x. From version 0.12, the only valid positional argument will be `data`, and passing other arguments without an explicit keyword will result in an error or misinterpretation.\n",
            "  warnings.warn(\n"
          ]
        },
        {
          "output_type": "execute_result",
          "data": {
            "text/plain": [
              "<matplotlib.axes._subplots.AxesSubplot at 0x7f97875b9f40>"
            ]
          },
          "metadata": {},
          "execution_count": 152
        },
        {
          "output_type": "display_data",
          "data": {
            "text/plain": [
              "<Figure size 432x288 with 1 Axes>"
            ],
            "image/png": "[encoded data removed]"
          },
          "metadata": {
            "needs_background": "light"
          }
        }
      ]
    },
    {
      "cell_type": "markdown",
      "source": [],
      "metadata": {
        "id": "JdJgxLwXNzYX"
      }
    },
    {
      "cell_type": "code",
      "source": [
        "from sklearn.model_selection import train_test_split"
      ],
      "metadata": {
        "id": "jMHfmQPY_eT0"
      },
      "execution_count": 153,
      "outputs": []
    },
    {
      "cell_type": "code",
      "source": [
        "x_Train, x_Test, y_Train, y_Test = train_test_split(movie_rev_data['review'],\n",
        "                                                    movie_rev_data['sentiment'],\n",
        "                                                    test_size=0.50) # splited the data into two equal sizes "
      ],
      "metadata": {
        "id": "hTUT_Yfi_ec8"
      },
      "execution_count": 154,
      "outputs": []
    },
    {
      "cell_type": "code",
      "source": [
        "len(x_Train)\n",
        "len(x_Test)\n",
        "len(y_Train)\n",
        "len(y_Test)"
      ],
      "metadata": {
        "colab": {
          "base_uri": "https://localhost:8080/"
        },
        "id": "w24P90HW_eiF",
        "outputId": "77fcc416-89f9-43db-8f77-491ae554d6e1"
      },
      "execution_count": 155,
      "outputs": [
        {
          "output_type": "execute_result",
          "data": {
            "text/plain": [
              "25000"
            ]
          },
          "metadata": {},
          "execution_count": 155
        }
      ]
    },
    {
      "cell_type": "code",
      "source": [
        "print(x_Train) # x trainog data"
      ],
      "metadata": {
        "colab": {
          "base_uri": "https://localhost:8080/"
        },
        "id": "NNCEjbTC_enG",
        "outputId": "c1888a39-0e1d-4ec6-9903-4a5835b16f1d"
      },
      "execution_count": 156,
      "outputs": [
        {
          "output_type": "stream",
          "name": "stdout",
          "text": [
            "32633    A Walt Disney MICKEY MOUSE Cartoon.<br /><br />STEAMBOAT WILLIE, a mischievous little rodent, neglects his pilothous...\n",
            "9357     If you make a suspense movie it is kind of important that the \"villain\" not be more sympathetic than the \"victim\". A...\n",
            "20599    This has to be some of the worst direction I've seen. The close-up can be a very powerful shot, but when every scene...\n",
            "45963    REnted this one accidentally, it was behind the movie box of what i thought i was renting, didn't find out until i g...\n",
            "20748    I thought this series was going to be another fun, action series with some dynamic plots and great performances. I w...\n",
            "                                                                  ...                                                           \n",
            "7231     I never saw this movie until I bought the tape last year. I was enthralled and entertained. It has all the elements ...\n",
            "1776     This one and \"Her Pilgrim Soul\" are two of my favorite episodes in this new version of Twilight Zone. As I mentioned...\n",
            "3656     Well this movie actually made me feel so strongly that I signed up for an IMDb account just to warn people. It is pa...\n",
            "21362    (spoilers)<br /><br />I was blown away by this movie. I've been renting on movielink for a bit, and decided to check...\n",
            "16316    Angela (Sandra Bullock) is a computer expert but, being shy and somewhat of a recluse, she does all of her work from...\n",
            "Name: review, Length: 25000, dtype: object\n"
          ]
        }
      ]
    },
    {
      "cell_type": "code",
      "source": [
        "print(y_Train) # y training data "
      ],
      "metadata": {
        "colab": {
          "base_uri": "https://localhost:8080/"
        },
        "id": "dKUf66TU_eq2",
        "outputId": "4235b6d0-f301-48ca-ce7f-9ba156b8756c"
      },
      "execution_count": 157,
      "outputs": [
        {
          "output_type": "stream",
          "name": "stdout",
          "text": [
            "32633    1\n",
            "9357     0\n",
            "20599    0\n",
            "45963    1\n",
            "20748    0\n",
            "        ..\n",
            "7231     1\n",
            "1776     1\n",
            "3656     0\n",
            "21362    1\n",
            "16316    1\n",
            "Name: sentiment, Length: 25000, dtype: int64\n"
          ]
        }
      ]
    },
    {
      "cell_type": "markdown",
      "source": [
        "* TF-TDF Vctorization on the X trainig data "
      ],
      "metadata": {
        "id": "e7g22giEOHax"
      }
    },
    {
      "cell_type": "code",
      "source": [
        "from sklearn.feature_extraction.text import TfidfVectorizer \n",
        "vect = TfidfVectorizer().fit(x_Train)"
      ],
      "metadata": {
        "id": "Mn5tKePA-HEv"
      },
      "execution_count": 158,
      "outputs": []
    },
    {
      "cell_type": "code",
      "source": [
        "len(vect.get_feature_names())"
      ],
      "metadata": {
        "colab": {
          "base_uri": "https://localhost:8080/"
        },
        "id": "VWD1kd52Bmp_",
        "outputId": "c226b039-9587-4945-c983-9fc61ac2e395"
      },
      "execution_count": 159,
      "outputs": [
        {
          "output_type": "stream",
          "name": "stderr",
          "text": [
            "/usr/local/lib/python3.8/dist-packages/sklearn/utils/deprecation.py:87: FutureWarning: Function get_feature_names is deprecated; get_feature_names is deprecated in 1.0 and will be removed in 1.2. Please use get_feature_names_out instead.\n",
            "  warnings.warn(msg, category=FutureWarning)\n"
          ]
        },
        {
          "output_type": "execute_result",
          "data": {
            "text/plain": [
              "76695"
            ]
          },
          "metadata": {},
          "execution_count": 159
        }
      ]
    },
    {
      "cell_type": "code",
      "source": [
        "vectorized_x_train = vect.transform(x_Train)"
      ],
      "metadata": {
        "id": "dti4KNN7CWDW"
      },
      "execution_count": 160,
      "outputs": []
    },
    {
      "cell_type": "code",
      "source": [
        "from sklearn.linear_model import LogisticRegression\n",
        "model = LogisticRegression()\n",
        "model.fit(vectorized_x_train, y_Train)\n"
      ],
      "metadata": {
        "colab": {
          "base_uri": "https://localhost:8080/"
        },
        "id": "SiJ-p6ImCWMb",
        "outputId": "c3b2fa04-bf45-4946-9ab5-cd2aba2a07de"
      },
      "execution_count": 161,
      "outputs": [
        {
          "output_type": "execute_result",
          "data": {
            "text/plain": [
              "LogisticRegression()"
            ]
          },
          "metadata": {},
          "execution_count": 161
        }
      ]
    },
    {
      "cell_type": "code",
      "source": [
        "predicted = model.predict(vect.transform(x_Test))"
      ],
      "metadata": {
        "id": "gJ7mM5TqDgVJ"
      },
      "execution_count": 162,
      "outputs": []
    },
    {
      "cell_type": "code",
      "source": [
        "print(predicted)"
      ],
      "metadata": {
        "colab": {
          "base_uri": "https://localhost:8080/"
        },
        "id": "ZUGFv4gxDgcq",
        "outputId": "a5e0d152-c9a7-471c-bfab-0e85d752abd9"
      },
      "execution_count": 163,
      "outputs": [
        {
          "output_type": "stream",
          "name": "stdout",
          "text": [
            "[1 1 1 ... 0 0 1]\n"
          ]
        }
      ]
    },
    {
      "cell_type": "code",
      "source": [
        "from sklearn.metrics import roc_auc_score\n",
        "print(\"AUC:\", roc_auc_score(y_Test, predicted)) # The predicted model is 0.90% accurate."
      ],
      "metadata": {
        "colab": {
          "base_uri": "https://localhost:8080/"
        },
        "id": "62xfcMTxCWRs",
        "outputId": "8b92e190-5f19-4451-9695-1798f0675334"
      },
      "execution_count": 164,
      "outputs": [
        {
          "output_type": "stream",
          "name": "stdout",
          "text": [
            "AUC: 0.8877639361357482\n"
          ]
        }
      ]
    }
  ],
  "metadata": {
    "colab": {
      "provenance": []
    },
    "kernelspec": {
      "display_name": "Python 3",
      "name": "python3"
    },
    "language_info": {
      "name": "python"
    }
  },
  "nbformat": 4,
  "nbformat_minor": 0
}